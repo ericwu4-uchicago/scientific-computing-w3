{
 "cells": [
  {
   "cell_type": "markdown",
   "metadata": {},
   "source": [
    "# Module 3: Assignment B #\n",
    "\n",
    "------"
   ]
  },
  {
   "cell_type": "markdown",
   "metadata": {},
   "source": [
    "## 1. Dynamic Progamming Implementation\n",
    "\n",
    "Implement dynamic programming algorithms for global ([Needleman-Wunsch](https://pubmed.ncbi.nlm.nih.gov/5420325/)) and local ([Smith-Waterman](https://pubmed.ncbi.nlm.nih.gov/7265238)) alignment of protein sequences. The implementation should be a stand alone, command-line application. \n",
    "\n",
    "\n",
    "> There is a jupyter notebook in the module that walkthrough a partial implemention of Needleman-Wunsch. Feel free to use this code as a starter, but you do not feel obligated to. You may find it easier to start from scratch so that you can completely understand every aspect of your code or use this to get you started. There are some differences of what is being asked of you here, as to what is implemented (eg. scoring matrix, protein only) in the notebook.\n",
    "\n",
    "The application should allow the user to read in the sequences from a fasta formatted file, select the type of alignment (local or global).\n",
    "\n",
    "The application should take parameter from the the command line to set the sequence files, the type of alignment, the scoring matrix and a linear gap penalty. Include the ability to select either the blosum62 or pam250 scoring matrices. The matrices are included as python dictionaries [here]().\n",
    "\n",
    "An example of running the program is shown below:\n",
    "\n",
    "```\n",
    "\n",
    "align.py --seq1 sequence_file.fasta \\\n",
    "         --seq2 different_sequence_file.fasta \\ \n",
    "         --type global \\\n",
    "         --matrix blosum62 \\\n",
    "         --gap_penalty -2\n",
    "\n",
    "```\n",
    "\n",
    "Please use judicious comments throughout your code. \n",
    "\n",
    "The program should report the alignment score, the sequence identity and a visual representation of the alignment. For example:\n",
    "\n",
    "```\n",
    "\n",
    "seq 1   GCTAGGATAGGCAATTGGCCTAG--T--G\n",
    "seq 2   ------ATA-GTAATTGGCCT-GCTTGAG\n",
    "Aligment Score:    3\n",
    "Sequence Identity: 78%\n",
    "\n",
    "```\n",
    "\n",
    "Implement your code in a seperate module and provide an example of a command used to test it, along with the corresponding files."
   ]
  },
  {
   "cell_type": "code",
   "execution_count": 1,
   "metadata": {},
   "outputs": [],
   "source": [
    "import numpy as np\n",
    "import argparse\n",
    "import matplotlib.pyplot as plt\n",
    "import scipy.stats\n",
    "import time"
   ]
  },
  {
   "cell_type": "code",
   "execution_count": 2,
   "metadata": {},
   "outputs": [],
   "source": [
    "PAM250 = {\n",
    "'A': {'A': 2,  'C': -2, 'D':  0, 'E': 0, 'F': -3, 'G':  1, 'H': -1, 'I': -1, 'K': -1, 'L': -2, 'M': -1, 'N':  0, 'P':  1, 'Q':  0, 'R': -2, 'S':  1, 'T':  1, 'V':  0, 'W': -6, 'Y': -3},\n",
    "'C': {'A': -2, 'C': 12, 'D': -5, 'E':-5, 'F': -4, 'G': -3, 'H': -3, 'I': -2, 'K': -5, 'L': -6, 'M': -5, 'N': -4, 'P': -3, 'Q': -5, 'R': -4, 'S':  0, 'T': -2, 'V': -2, 'W': -8, 'Y':  0},\n",
    "'D': {'A': 0,  'C': -5, 'D':  4, 'E': 3, 'F': -6, 'G':  1, 'H':  1, 'I': -2, 'K':  0, 'L': -4, 'M': -3, 'N':  2, 'P': -1, 'Q':  2, 'R': -1, 'S':  0, 'T':  0, 'V': -2, 'W': -7, 'Y': -4},\n",
    "'E': {'A': 0,  'C': -5, 'D':  3, 'E': 4, 'F': -5, 'G':  0, 'H':  1, 'I': -2, 'K':  0, 'L': -3, 'M': -2, 'N':  1, 'P': -1, 'Q':  2, 'R': -1, 'S':  0, 'T':  0, 'V': -2, 'W': -7, 'Y': -4},\n",
    "'F': {'A': -3, 'C': -4, 'D': -6, 'E':-5, 'F':  9, 'G': -5, 'H': -2, 'I':  1, 'K': -5, 'L':  2, 'M':  0, 'N': -3, 'P': -5, 'Q': -5, 'R': -4, 'S': -3, 'T': -3, 'V': -1, 'W':  0, 'Y':  7},\n",
    "'G': {'A': 1,  'C': -3, 'D':  1, 'E': 0, 'F': -5, 'G':  5, 'H': -2, 'I': -3, 'K': -2, 'L': -4, 'M': -3, 'N':  0, 'P':  0, 'Q': -1, 'R': -3, 'S':  1, 'T':  0, 'V': -1, 'W': -7, 'Y': -5},\n",
    "'H': {'A': -1, 'C': -3, 'D':  1, 'E': 1, 'F': -2, 'G': -2, 'H':  6, 'I': -2, 'K':  0, 'L': -2, 'M': -2, 'N':  2, 'P':  0, 'Q':  3, 'R':  2, 'S': -1, 'T': -1, 'V': -2, 'W': -3, 'Y':  0},\n",
    "'I': {'A': -1, 'C': -2, 'D': -2, 'E':-2, 'F':  1, 'G': -3, 'H': -2, 'I':  5, 'K': -2, 'L':  2, 'M':  2, 'N': -2, 'P': -2, 'Q': -2, 'R': -2, 'S': -1, 'T':  0, 'V':  4, 'W': -5, 'Y': -1},\n",
    "'K': {'A': -1, 'C': -5, 'D':  0, 'E': 0, 'F': -5, 'G': -2, 'H':  0, 'I': -2, 'K':  5, 'L': -3, 'M':  0, 'N':  1, 'P': -1, 'Q':  1, 'R':  3, 'S':  0, 'T':  0, 'V': -2, 'W': -3, 'Y': -4},\n",
    "'L': {'A': -2, 'C': -6, 'D': -4, 'E':-3, 'F':  2, 'G': -4, 'H': -2, 'I':  2, 'K': -3, 'L':  6, 'M':  4, 'N': -3, 'P': -3, 'Q': -2, 'R': -3, 'S': -3, 'T': -2, 'V':  2, 'W': -2, 'Y': -1},\n",
    "'M': {'A': -1, 'C': -5, 'D': -3, 'E':-2, 'F':  0, 'G': -3, 'H': -2, 'I':  2, 'K':  0, 'L':  4, 'M':  6, 'N': -2, 'P': -2, 'Q': -1, 'R':  0, 'S': -2, 'T': -1, 'V':  2, 'W': -4, 'Y': -2},\n",
    "'N': {'A': 0,  'C': -4, 'D':  2, 'E': 1, 'F': -3, 'G':  0, 'H':  2, 'I': -2, 'K':  1, 'L': -3, 'M': -2, 'N':  2, 'P':  0, 'Q':  1, 'R':  0, 'S':  1, 'T':  0, 'V': -2, 'W': -4, 'Y': -2},\n",
    "'P': {'A': 1,  'C': -3, 'D': -1, 'E':-1, 'F': -5, 'G':  0, 'H':  0, 'I': -2, 'K': -1, 'L': -3, 'M': -2, 'N':  0, 'P':  6, 'Q':  0, 'R':  0, 'S':  1, 'T':  0, 'V': -1, 'W': -6, 'Y': -5},\n",
    "'Q': {'A': 0,  'C': -5, 'D':  2, 'E': 2, 'F': -5, 'G': -1, 'H':  3, 'I': -2, 'K':  1, 'L': -2, 'M': -1, 'N':  1, 'P':  0, 'Q':  4, 'R':  1, 'S': -1, 'T': -1, 'V': -2, 'W': -5, 'Y': -4},\n",
    "'R': {'A': -2, 'C': -4, 'D': -1, 'E':-1, 'F': -4, 'G': -3, 'H':  2, 'I': -2, 'K':  3, 'L': -3, 'M':  0, 'N':  0, 'P':  0, 'Q':  1, 'R':  6, 'S':  0, 'T': -1, 'V': -2, 'W':  2, 'Y': -4},\n",
    "'S': {'A': 1,  'C':  0, 'D':  0, 'E': 0, 'F': -3, 'G':  1, 'H': -1, 'I': -1, 'K':  0, 'L': -3, 'M': -2, 'N':  1, 'P':  1, 'Q': -1, 'R':  0, 'S':  2, 'T':  1, 'V': -1, 'W': -2, 'Y': -3},\n",
    "'T': {'A': 1,  'C': -2, 'D':  0, 'E': 0, 'F': -3, 'G':  0, 'H': -1, 'I':  0, 'K':  0, 'L': -2, 'M': -1, 'N':  0, 'P':  0, 'Q': -1, 'R': -1, 'S':  1, 'T':  3, 'V':  0, 'W': -5, 'Y': -3},\n",
    "'V': {'A': 0,  'C': -2, 'D': -2, 'E':-2, 'F': -1, 'G': -1, 'H': -2, 'I':  4, 'K': -2, 'L':  2, 'M':  2, 'N': -2, 'P': -1, 'Q': -2, 'R': -2, 'S': -1, 'T':  0, 'V':  4, 'W': -6, 'Y': -2},\n",
    "'W': {'A': -6, 'C': -8, 'D': -7, 'E':-7, 'F':  0, 'G': -7, 'H': -3, 'I': -5, 'K': -3, 'L': -2, 'M': -4, 'N': -4, 'P': -6, 'Q': -5, 'R':  2, 'S': -2, 'T': -5, 'V': -6, 'W': 17, 'Y':  0},\n",
    "'Y': {'A': -3, 'C':  0, 'D': -4, 'E':-4, 'F':  7, 'G': -5, 'H':  0, 'I': -1, 'K': -4, 'L': -1, 'M': -2, 'N': -2, 'P': -5, 'Q': -4, 'R': -4, 'S': -3, 'T': -3, 'V': -2, 'W':  0, 'Y': 10}}\n",
    "\n",
    "BLOSUM62={'C':{'C':9,'S':-1,'T':-1,'P':-3,'A':0,'G':-3,'N':-3,'D':-3,'E':-4,'Q':-3,'H':-3,'R':-3,'K':-3,'M':-1,'I':-1,'L':-1,'V':-1,'F':-2,'Y':-2,'W':-2},\n",
    "          'S':{'C':-1,'S':4,'T':1,'P':-1,'A':1,'G':0,'N':1,'D':0,'E':0,'Q':0,'H':-1,'R':-1,'K':0,'M':-1,'I':-2,'L':-2,'V':-2,'F':-2,'Y':-2,'W':-3},\n",
    "          'T':{'C':-1,'S':1,'T':4,'P':1,'A':-1,'G':1,'N':0,'D':1,'E':0,'Q':0,'H':0,'R':-1,'K':0,'M':-1,'I':-2,'L':-2,'V':-2,'F':-2,'Y':-2,'W':-3},\n",
    "          'P':{'C':-3,'S':-1,'T':1,'P':7,'A':-1,'G':-2,'N':-1,'D':-1,'E':-1,'Q':-1,'H':-2,'R':-2,'K':-1,'M':-2,'I':-3,'L':-3,'V':-2,'F':-4,'Y':-3,'W':-4},\n",
    "          'A':{'C':0,'S':1,'T':-1,'P':-1,'A':4,'G':0,'N':-1,'D':-2,'E':-1,'Q':-1,'H':-2,'R':-1,'K':-1,'M':-1,'I':-1,'L':-1,'V':-2,'F':-2,'Y':-2,'W':-3},\n",
    "          'G':{'C':-3,'S':0,'T':1,'P':-2,'A':0,'G':6,'N':-2,'D':-1,'E':-2,'Q':-2,'H':-2,'R':-2,'K':-2,'M':-3,'I':-4,'L':-4,'V':0,'F':-3,'Y':-3,'W':-2},\n",
    "          'N':{'C':-3,'S':1,'T':0,'P':-2,'A':-2,'G':0,'N':6,'D':1,'E':0,'Q':0,'H':-1,'R':0,'K':0,'M':-2,'I':-3,'L':-3,'V':-3,'F':-3,'Y':-2,'W':-4},\n",
    "          'D':{'C':-3,'S':0,'T':1,'P':-1,'A':-2,'G':-1,'N':1,'D':6,'E':2,'Q':0,'H':-1,'R':-2,'K':-1,'M':-3,'I':-3,'L':-4,'V':-3,'F':-3,'Y':-3,'W':-4},\n",
    "          'E':{'C':-4,'S':0,'T':0,'P':-1,'A':-1,'G':-2,'N':0,'D':2,'E':5,'Q':2,'H':0,'R':0,'K':1,'M':-2,'I':-3,'L':-3,'V':-3,'F':-3,'Y':-2,'W':-3},\n",
    "          'Q':{'C':-3,'S':0,'T':0,'P':-1,'A':-1,'G':-2,'N':0,'D':0,'E':2,'Q':5,'H':0,'R':1,'K':1,'M':0,'I':-3,'L':-2,'V':-2,'F':-3,'Y':-1,'W':-2},\n",
    "          'H':{'C':-3,'S':-1,'T':0,'P':-2,'A':-2,'G':-2,'N':1,'D':1,'E':0,'Q':0,'H':8,'R':0,'K':-1,'M':-2,'I':-3,'L':-3,'V':-2,'F':-1,'Y':2,'W':-2},\n",
    "          'R':{'C':-3,'S':-1,'T':-1,'P':-2,'A':-1,'G':-2,'N':0,'D':-2,'E':0,'Q':1,'H':0,'R':5,'K':2,'M':-1,'I':-3,'L':-2,'V':-3,'F':-3,'Y':-2,'W':-3},\n",
    "          'K':{'C':-3,'S':0,'T':0,'P':-1,'A':-1,'G':-2,'N':0,'D':-1,'E':1,'Q':1,'H':-1,'R':2,'K':5,'M':-1,'I':-3,'L':-2,'V':-3,'F':-3,'Y':-2,'W':-3},\n",
    "          'M':{'C':-1,'S':-1,'T':-1,'P':-2,'A':-1,'G':-3,'N':-2,'D':-3,'E':-2,'Q':0,'H':-2,'R':-1,'K':-1,'M':5,'I':1,'L':2,'V':-2,'F':0,'Y':-1,'W':-1},\n",
    "          'I':{'C':-1,'S':-2,'T':-2,'P':-3,'A':-1,'G':-4,'N':-3,'D':-3,'E':-3,'Q':-3,'H':-3,'R':-3,'K':-3,'M':1,'I':4,'L':2,'V':1,'F':0,'Y':-1,'W':-3},\n",
    "          'L':{'C':-1,'S':-2,'T':-2,'P':-3,'A':-1,'G':-4,'N':-3,'D':-4,'E':-3,'Q':-2,'H':-3,'R':-2,'K':-2,'M':2,'I':2,'L':4,'V':3,'F':0,'Y':-1,'W':-2},\n",
    "          'V':{'C':-1,'S':-2,'T':-2,'P':-2,'A':0,'G':-3,'N':-3,'D':-3,'E':-2,'Q':-2,'H':-3,'R':-3,'K':-2,'M':1,'I':3,'L':1,'V':4,'F':-1,'Y':-1,'W':-3},\n",
    "          'F':{'C':-2,'S':-2,'T':-2,'P':-4,'A':-2,'G':-3,'N':-3,'D':-3,'E':-3,'Q':-3,'H':-1,'R':-3,'K':-3,'M':0,'I':0,'L':0,'V':-1,'F':6,'Y':3,'W':1},\n",
    "          'Y':{'C':-2,'S':-2,'T':-2,'P':-3,'A':-2,'G':-3,'N':-2,'D':-3,'E':-2,'Q':-1,'H':2,'R':-2,'K':-2,'M':-1,'I':-1,'L':-1,'V':-1,'F':3,'Y':7,'W':2},\n",
    "          'W':{'C':-2,'S':-3,'T':-3,'P':-4,'A':-3,'G':-2,'N':-4,'D':-4,'E':-3,'Q':-2,'H':-2,'R':-3,'K':-3,'M':-1,'I':-3,'L':-2,'V':-3,'F':1,'Y':2,'W':11}\n",
    "          }"
   ]
  },
  {
   "cell_type": "code",
   "execution_count": 3,
   "metadata": {},
   "outputs": [],
   "source": [
    "def calcbest(above, diag, left, scope, matrixcost, gap):\n",
    "    values = np.zeros(3)\n",
    "    values[0] = above + gap\n",
    "    values[1] = left + gap\n",
    "    values[2] = diag + matrixcost\n",
    "    highest = max(values)\n",
    "    if (scope == 'local' and highest < 0):\n",
    "        return 0\n",
    "    return highest"
   ]
  },
  {
   "cell_type": "code",
   "execution_count": 4,
   "metadata": {},
   "outputs": [],
   "source": [
    "def find_align(first, second, scope, matrix, gap):\n",
    "    costs = np.zeros((1 + len(first), 1 + len(second)))\n",
    "    if (scope == 'global'):\n",
    "        for i in range(1, 1+len(first)):\n",
    "            costs[i][0] = i * gap\n",
    "        for i in range(1, 1+len(second)):\n",
    "            costs[0][i] = i * gap\n",
    "    for i in range(1, 1+len(first)):\n",
    "        for j in range(1, 1 + len(second)):\n",
    "            matrixcost = matrix[first[i-1].upper()][second[j-1].upper()]\n",
    "            costs[i][j] = calcbest(costs[i-1][j], costs[i-1][j-1], costs[i][j-1], scope, matrixcost, gap)\n",
    "    return costs"
   ]
  },
  {
   "cell_type": "code",
   "execution_count": 30,
   "metadata": {},
   "outputs": [],
   "source": [
    "def backstep(costs, firstloc, secondloc, scope, gap):\n",
    "    if (costs[firstloc][secondloc] == gap + costs[firstloc - 1][secondloc]):\n",
    "        return 1\n",
    "    if (costs[firstloc][secondloc] == gap + costs[firstloc][secondloc - 1]):\n",
    "        return 2\n",
    "    return 3\n",
    "\n",
    "\n",
    "def find_traversal(costs, first, second, scope, gap):\n",
    "    score = 0\n",
    "    firstform = \"\"\n",
    "    secondform = \"\"\n",
    "    firstloc = -1\n",
    "    secondloc = -1\n",
    "    matches = 0\n",
    "    pathlen = 0\n",
    "    if (scope == 'global'):\n",
    "        firstloc = len(first)\n",
    "        secondloc = len(second)\n",
    "        score = costs[firstloc][secondloc]\n",
    "        while (firstloc > 0 or secondloc > 0):\n",
    "            inc = backstep(costs, firstloc, secondloc, scope, gap)\n",
    "            if (inc == 1):\n",
    "                firstform = first[firstloc] + firstform\n",
    "                secondform = '-' + secondform\n",
    "                firstloc += -1\n",
    "            elif (inc == 2):\n",
    "                secondform = second[secondloc] + secondform\n",
    "                firstform = '-' + firstform\n",
    "                secondloc += -1\n",
    "            elif (inc == 3):\n",
    "                firstloc += -1\n",
    "                secondloc += -1\n",
    "                firstform = first[firstloc] + firstform\n",
    "                secondform = second[secondloc] + secondform\n",
    "                matches += 1\n",
    "            pathlen += 1\n",
    "                \n",
    "    elif (scope == \"local\"):\n",
    "        locs = np.unravel_index(costs.argmax(), costs.shape)\n",
    "        #https://stackoverflow.com/questions/3584243/get-the-position-of-the-largest-value-in-a-multi-dimensional-numpy-array\n",
    "        firstloc = locs[0]\n",
    "        secondloc = locs[1]\n",
    "        score = costs[firstloc][secondloc]\n",
    "        while (costs[firstloc][secondloc] != 0):\n",
    "            inc = backstep(costs, firstloc, secondloc, scope, gap)\n",
    "            if (inc == 1):\n",
    "                firstform = first[firstloc] + firstform\n",
    "                secondform = '-' + secondform\n",
    "                firstloc += -1\n",
    "            elif (inc == 2):\n",
    "                secondform = second[secondloc] + secondform\n",
    "                firstform = '-' + firstform\n",
    "                secondloc += -1\n",
    "            elif (inc == 3):\n",
    "                firstloc += -1\n",
    "                secondloc += -1\n",
    "                firstform = first[firstloc] + firstform\n",
    "                secondform = second[secondloc] + secondform\n",
    "                matches += 1\n",
    "            pathlen += 1\n",
    "    print(f\"seq1: {firstform}\\nseq2: {secondform}\\nscore: {score}\\nsequence identity: {matches/pathlen}\")"
   ]
  },
  {
   "cell_type": "code",
   "execution_count": 31,
   "metadata": {},
   "outputs": [
    {
     "name": "stdout",
     "output_type": "stream",
     "text": [
      "seq1: GTTAGGA-TAGGCATTGGCCCTGGTG\n",
      "seq2: A-TAGTATTTGGCC-T-G-CTT-GAG\n",
      "score: 64.0\n",
      "sequence identity: 0.7692307692307693\n"
     ]
    }
   ],
   "source": [
    "first = \"GCTAGGATAGGCAATTGGCCTAGTG\"\n",
    "second = \"ATAGTAATTGGCCTGCTTGAG\"\n",
    "#first = \"AGTTAC\"\n",
    "#second = \"AGATTAC\"\n",
    "costs = find_align(first, second, \"global\", BLOSUM62, -2)\n",
    "#print(costs)\n",
    "\n",
    "#print(costs.argmax())\n",
    "#print(np.unravel_index(costs.argmax(), costs.shape))\n",
    "#print(costs.shape[0]) \n",
    "find_traversal(costs, first, second, \"global\", -2)"
   ]
  },
  {
   "cell_type": "code",
   "execution_count": null,
   "metadata": {},
   "outputs": [],
   "source": [
    "# my example command (with files included)\n",
    "argParser = argparse.ArgumentParser() #https://www.tutorialspoint.com/python/python_command_line_arguments.htm\n",
    "argParser.add_argument(\"--seq1 \", \"--seq1\", help=\"first sequence\")\n",
    "argParser.add_argument(\"--seq2 \", \"--seq2\", help=\"second sequence\")\n",
    "argParser.add_argument(\"--type \", \"--type\", help=\"global or local\")\n",
    "argParser.add_argument(\"--matrix \", \"--matrix\", help=\"weight matrix\")\n",
    "argParser.add_argument(\"--gap_penalty \", \"--gap\", help=\"gap penalty should be negative\")\n",
    "\n",
    "args = argParser.parse_args()\n"
   ]
  },
  {
   "attachments": {
    "image.png": {
     "image/png": "[encoded data removed]"
    }
   },
   "cell_type": "markdown",
   "metadata": {},
   "source": [
    "![image.png](attachment:image.png)"
   ]
  },
  {
   "cell_type": "markdown",
   "metadata": {},
   "source": [
    "Resources and tools to help test your implementation:\n",
    "\n",
    "* Neelemen-Wunsch \n",
    "  - A general method applicable to the search for similarities in the amino acid sequence of two proteins. Needleman SB, Wunsch CD. [J Mol Biol 1970 Mar;48(3):443-53](http://www.ncbi.nlm.nih.gov/pubmed/5420325?ordinalpos=7&itool=EntrezSystem2.PEntrez.Pubmed.Pubmed_ResultsPanel.Pubmed_DefaultReportPanel.Pubmed_RVDocSum)\n",
    "  - Online Needleman-Wunsch Alignment Tool: http://rna.informatik.uni-freiburg.de/Teaching/index.jsp?toolName=Needleman-Wunsch\n",
    "\n",
    "* Smith Waterman\n",
    "  - Identification of common molecular subsequences. Smith TF, Waterman MS. [J Mol Biol 1981 Mar 25;147(1):195-7]({{site.cdn}}/2015-Autumn/Session3/dayhoff-1978-apss.pdf)\n",
    "  - Online Smith Waterman Alignment Tool: http://rna.informatik.uni-freiburg.de/Teaching/index.jsp?toolName=Smith-Waterman"
   ]
  },
  {
   "cell_type": "markdown",
   "metadata": {},
   "source": [
    "## 2.  Statisics of Pairwise Alignments\n",
    "---------------------------------------\n",
    "\n",
    "Perform a global sequence alignment of the following sequences:\n",
    "\n",
    "```\n",
    "PAWHEAE\n",
    "HEAGAWGHEE\n",
    "```\n",
    "Assume a match score of `1`, a gap penalty of `3` and a substitution score of `-1`.  What is the alignment score?\n"
   ]
  },
  {
   "cell_type": "code",
   "execution_count": 6,
   "metadata": {},
   "outputs": [
    {
     "data": {
      "text/plain": [
       "array([[  0.,  -3.,  -6.,  -9., -12., -15., -18., -21., -24., -27., -30.],\n",
       "       [ -3.,  -1.,  -4.,  -5.,  -8., -11., -14., -17., -20., -23., -26.],\n",
       "       [ -6.,  -4.,  -2.,  -3.,  -6.,  -7., -10., -13., -16., -19., -22.],\n",
       "       [ -9.,  -7.,  -5.,  -1.,  -4.,  -5.,  -6.,  -9., -12., -15., -18.],\n",
       "       [-12.,  -8.,  -8.,  -4.,  -2.,  -5.,  -6.,  -7.,  -8., -11., -14.],\n",
       "       [-15., -11.,  -7.,  -7.,  -5.,  -3.,  -6.,  -7.,  -8.,  -7., -10.],\n",
       "       [-18., -14., -10.,  -6.,  -8.,  -4.,  -4.,  -7.,  -8.,  -9.,  -8.],\n",
       "       [-21., -17., -13.,  -9.,  -7.,  -7.,  -5.,  -5.,  -8.,  -7.,  -8.]])"
      ]
     },
     "execution_count": 6,
     "metadata": {},
     "output_type": "execute_result"
    }
   ],
   "source": [
    "first = \"PAWHEAE\"\n",
    "second = \"HEAGAWGHEE\"\n",
    "effective_matrix = {'A':{'A':1,'E':-1,'H':-1,'G':-1,'P':-1,'W':-1},\n",
    "                   'E':{'A':-1,'E':1,'H':-1,'G':-1,'P':-1,'W':-1},\n",
    "                   'H':{'A':-1,'E':-1,'H':1,'G':-1,'P':-1,'W':-1},\n",
    "                   'G':{'A':1,'E':-1,'H':-1,'G':1,'P':-1,'W':-1},\n",
    "                   'P':{'A':1,'E':-1,'H':-1,'G':-1,'P':1,'W':-1},\n",
    "                    'W':{'A':1,'E':-1,'H':-1,'G':-1,'P':1,'W':1}}\n",
    "find_align(first, second, \"global\", effective_matrix, -3)"
   ]
  },
  {
   "cell_type": "markdown",
   "metadata": {},
   "source": [
    "The alignment score is -8."
   ]
  },
  {
   "cell_type": "markdown",
   "metadata": {},
   "source": [
    "Next, generate 100 random sequences with the same amino acid distribution as `PAWHEAE` by. Perform an alignment of each sequence to `HEAGAWGHEE`.   Calculate the Z-score for each alignment and construct a plot using `matplotlib`. Place the Z-score on the x-axis. Include the plot inline below."
   ]
  },
  {
   "cell_type": "code",
   "execution_count": 7,
   "metadata": {},
   "outputs": [
    {
     "name": "stdout",
     "output_type": "stream",
     "text": [
      "[ -6. -12. -10. -10. -10.  -8. -12.  -6. -10.  -8. -10.  -6.  -6.  -6.\n",
      "  -4.  -8.  -8. -10. -12. -10. -10. -12.  -8.  -8. -10. -10. -13.  -8.\n",
      " -10.  -6.  -4.  -8.  -6.  -6.  -8.  -6.  -8. -10. -10. -10.  -8.  -8.\n",
      " -10.  -8.  -8.  -8.  -8. -10. -10.  -8.  -8.  -8. -10.  -6. -10.  -8.\n",
      " -10. -10. -12. -10. -10. -11.  -8.  -8. -14. -10.  -6. -10.  -8.  -8.\n",
      " -10.  -6. -10.  -6. -10.  -8.  -8.  -8. -12. -10.  -8.  -6.  -8.  -8.\n",
      "  -8. -10.  -8.  -6.  -8. -12.  -8.  -6. -10.  -6.  -8.  -6. -10. -10.\n",
      "  -8.  -8.]\n"
     ]
    }
   ],
   "source": [
    "letters = ['P','A','W','H','E','A','E']\n",
    "second = \"HEAGAWGHEE\"\n",
    "letters = np.array(letters)\n",
    "alignments = np.zeros(100)\n",
    "for i in range(100):\n",
    "    np.random.shuffle(letters)\n",
    "    first = \"\"\n",
    "    for letter in letters:\n",
    "        first += letter\n",
    "    costs = find_align(first, second, \"global\", effective_matrix, -3)\n",
    "    alignments[i] = costs[-1][-1]\n",
    "    #print(letters)\n",
    "print(alignments)\n",
    "# Plot here"
   ]
  },
  {
   "cell_type": "code",
   "execution_count": 19,
   "metadata": {},
   "outputs": [
    {
     "data": {
      "image/png": "[encoded data removed]",
      "text/plain": [
       "<Figure size 432x288 with 1 Axes>"
      ]
     },
     "metadata": {
      "needs_background": "light"
     },
     "output_type": "display_data"
    },
    {
     "data": {
      "image/png": "[encoded data removed]",
      "text/plain": [
       "<Figure size 432x288 with 1 Axes>"
      ]
     },
     "metadata": {
      "needs_background": "light"
     },
     "output_type": "display_data"
    }
   ],
   "source": [
    "xs = list(set(alignments))\n",
    "heights = np.zeros(len(xs))\n",
    "for i in range(len(xs)):\n",
    "    heights[i] = sum(alignments == xs[i])\n",
    "#print(heights)\n",
    "plt.bar(xs, heights)\n",
    "plt.show()\n",
    "zscores = scipy.stats.zscore(alignments)\n",
    "xs = list(set(zscores))\n",
    "heights = np.zeros(len(xs))\n",
    "for i in range(len(xs)):\n",
    "    heights[i] = sum(zscores == xs[i])\n",
    "plt.bar(xs, heights)\n",
    "plt.show()"
   ]
  },
  {
   "cell_type": "markdown",
   "metadata": {},
   "source": [
    " What does the Z-score suggest about the significance of the initial alignment your performed?  "
   ]
  },
  {
   "cell_type": "markdown",
   "metadata": {},
   "source": [
    "The scores imply that the 2 amino acids are not homologous."
   ]
  },
  {
   "cell_type": "markdown",
   "metadata": {},
   "source": [
    "Are the alignment scores normally distributed?  _You can use SciPy or any other python modules to help._"
   ]
  },
  {
   "cell_type": "code",
   "execution_count": 22,
   "metadata": {},
   "outputs": [
    {
     "name": "stdout",
     "output_type": "stream",
     "text": [
      "0.9405908245290449\n"
     ]
    }
   ],
   "source": [
    "k2, p = scipy.stats.normaltest(zscores)\n",
    "print(p)"
   ]
  },
  {
   "cell_type": "markdown",
   "metadata": {},
   "source": [
    "We cannot say for certain that the scores are normally distributed here."
   ]
  },
  {
   "cell_type": "markdown",
   "metadata": {},
   "source": [
    "Repeat the process above, but now generate 1,000 and 10,000 random sequences and calculate the Z-score for each set.  Does the change in number of sequences alter your evaluation of the evolutionary relatedness of the sequences?"
   ]
  },
  {
   "cell_type": "code",
   "execution_count": 28,
   "metadata": {},
   "outputs": [
    {
     "name": "stdout",
     "output_type": "stream",
     "text": [
      "0.6556980000004842\n"
     ]
    }
   ],
   "source": [
    "letters = ['P','A','W','H','E','A','E']\n",
    "second = \"HEAGAWGHEE\"\n",
    "letters = np.array(letters)\n",
    "alignments = np.zeros(1000)\n",
    "start = time.perf_counter()\n",
    "for i in range(1000):\n",
    "    np.random.shuffle(letters)\n",
    "    first = \"\"\n",
    "    for letter in letters:\n",
    "        first += letter\n",
    "    costs = find_align(first, second, \"global\", effective_matrix, -3)\n",
    "    alignments[i] = costs[-1][-1]\n",
    "end = time.perf_counter()\n",
    "print(end-start)"
   ]
  },
  {
   "cell_type": "code",
   "execution_count": 24,
   "metadata": {},
   "outputs": [
    {
     "data": {
      "image/png": "[encoded data removed]",
      "text/plain": [
       "<Figure size 432x288 with 1 Axes>"
      ]
     },
     "metadata": {
      "needs_background": "light"
     },
     "output_type": "display_data"
    },
    {
     "data": {
      "image/png": "[encoded data removed]",
      "text/plain": [
       "<Figure size 432x288 with 1 Axes>"
      ]
     },
     "metadata": {
      "needs_background": "light"
     },
     "output_type": "display_data"
    }
   ],
   "source": [
    "xs = list(set(alignments))\n",
    "heights = np.zeros(len(xs))\n",
    "for i in range(len(xs)):\n",
    "    heights[i] = sum(alignments == xs[i])\n",
    "#print(heights)\n",
    "plt.bar(xs, heights)\n",
    "plt.show()\n",
    "zscores = scipy.stats.zscore(alignments)\n",
    "xs = list(set(zscores))\n",
    "heights = np.zeros(len(xs))\n",
    "for i in range(len(xs)):\n",
    "    heights[i] = sum(zscores == xs[i])\n",
    "plt.bar(xs, heights)\n",
    "plt.show()"
   ]
  },
  {
   "cell_type": "code",
   "execution_count": 29,
   "metadata": {},
   "outputs": [
    {
     "name": "stdout",
     "output_type": "stream",
     "text": [
      "4.864585799999986\n"
     ]
    }
   ],
   "source": [
    "letters = ['P','A','W','H','E','A','E']\n",
    "second = \"HEAGAWGHEE\"\n",
    "letters = np.array(letters)\n",
    "alignments = np.zeros(10000)\n",
    "start = time.perf_counter()\n",
    "for i in range(10000):\n",
    "    np.random.shuffle(letters)\n",
    "    first = \"\"\n",
    "    for letter in letters:\n",
    "        first += letter\n",
    "    costs = find_align(first, second, \"global\", effective_matrix, -3)\n",
    "    alignments[i] = costs[-1][-1]\n",
    "end = time.perf_counter()\n",
    "print(end-start)"
   ]
  },
  {
   "cell_type": "code",
   "execution_count": 26,
   "metadata": {},
   "outputs": [
    {
     "data": {
      "image/png": "[encoded data removed]",
      "text/plain": [
       "<Figure size 432x288 with 1 Axes>"
      ]
     },
     "metadata": {
      "needs_background": "light"
     },
     "output_type": "display_data"
    },
    {
     "data": {
      "image/png": "[encoded data removed]",
      "text/plain": [
       "<Figure size 432x288 with 1 Axes>"
      ]
     },
     "metadata": {
      "needs_background": "light"
     },
     "output_type": "display_data"
    }
   ],
   "source": [
    "xs = list(set(alignments))\n",
    "heights = np.zeros(len(xs))\n",
    "for i in range(len(xs)):\n",
    "    heights[i] = sum(alignments == xs[i])\n",
    "#print(heights)\n",
    "plt.bar(xs, heights)\n",
    "plt.show()\n",
    "zscores = scipy.stats.zscore(alignments)\n",
    "xs = list(set(zscores))\n",
    "heights = np.zeros(len(xs))\n",
    "for i in range(len(xs)):\n",
    "    heights[i] = sum(zscores == xs[i])\n",
    "plt.bar(xs, heights)\n",
    "plt.show()"
   ]
  },
  {
   "cell_type": "markdown",
   "metadata": {},
   "source": [
    "Considering the wall time for each run, comment of the feasibility for computing the Z-score significance while searching a large database of millions of sequences."
   ]
  },
  {
   "cell_type": "markdown",
   "metadata": {
    "collapsed": true
   },
   "source": [
    "This is not very relatistic if done frequently as while it appears to be linear with the size of the dataset, this appears to be quite slow and will only be worse for longer sequences."
   ]
  },
  {
   "cell_type": "markdown",
   "metadata": {},
   "source": [
    "# 3.  Recent Approaches in Sequence Alignemnt\n",
    "-----------------------------------------------------\n",
    "\n",
    "Search [PubMed](https://pubmed.ncbi.nlm.nih.gov) and identify a paper on a different sequence alignment method.  Do not use BLAST or FASTA.  Briefly (at a high-level), discuss what is different in these approaches and how they improve on what we have seen with Needleman-Wunch and/or Smith-Waterman.  You answer does not have to be uneccesarily technical, but please provide an understanding example of the improvement it makes. Limit your response to 1 paragragh at most. Share you findings and a link to the paper in the `#showcase` channel."
   ]
  },
  {
   "cell_type": "code",
   "execution_count": null,
   "metadata": {},
   "outputs": [],
   "source": []
  }
 ],
 "metadata": {
  "anaconda-cloud": {},
  "kernelspec": {
   "display_name": "Python 3",
   "language": "python",
   "name": "python3"
  },
  "language_info": {
   "codemirror_mode": {
    "name": "ipython",
    "version": 3
   },
   "file_extension": ".py",
   "mimetype": "text/x-python",
   "name": "python",
   "nbconvert_exporter": "python",
   "pygments_lexer": "ipython3",
   "version": "3.8.3"
  }
 },
 "nbformat": 4,
 "nbformat_minor": 2
}
